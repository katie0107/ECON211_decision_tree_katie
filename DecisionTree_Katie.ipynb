{
  "nbformat": 4,
  "nbformat_minor": 0,
  "metadata": {
    "colab": {
      "name": "DecisionTree_Katie.ipynb",
      "private_outputs": true,
      "provenance": [],
      "collapsed_sections": [],
      "include_colab_link": true
    },
    "kernelspec": {
      "display_name": "Python 3",
      "language": "python",
      "name": "python3"
    },
    "language_info": {
      "codemirror_mode": {
        "name": "ipython",
        "version": 3
      },
      "file_extension": ".py",
      "mimetype": "text/x-python",
      "name": "python",
      "nbconvert_exporter": "python",
      "pygments_lexer": "ipython3",
      "version": "3.8.3"
    }
  },
  "cells": [
    {
      "cell_type": "markdown",
      "metadata": {
        "id": "view-in-github",
        "colab_type": "text"
      },
      "source": [
        "<a href=\"https://colab.research.google.com/github/katie0107/ECON211_decision_tree_katie/blob/main/DecisionTree_Katie.ipynb\" target=\"_parent\"><img src=\"https://colab.research.google.com/assets/colab-badge.svg\" alt=\"Open In Colab\"/></a>"
      ]
    },
    {
      "cell_type": "markdown",
      "metadata": {
        "id": "TB0sNYDCJ0M0"
      },
      "source": [
        "# Step 1: Data Wrangling"
      ]
    },
    {
      "cell_type": "code",
      "metadata": {
        "id": "fIsslb8YINKh"
      },
      "source": [
        "import pandas as pd \n",
        "import numpy as np\n",
        "from sklearn.tree import DecisionTreeClassifier # Import Decision Tree Classifier\n",
        "from sklearn import metrics \n",
        "clf = DecisionTreeClassifier()\n",
        "import matplotlib.pyplot as plt \n",
        "%matplotlib inline"
      ],
      "execution_count": null,
      "outputs": []
    },
    {
      "cell_type": "code",
      "metadata": {
        "id": "qTM-a9GZIWRL"
      },
      "source": [
        "###show all columns\n",
        "pd.set_option('display.max_columns', None)\n",
        "pd.set_option('display.max_rows', None)"
      ],
      "execution_count": null,
      "outputs": []
    },
    {
      "cell_type": "code",
      "metadata": {
        "id": "ZH8NDdVFImVZ"
      },
      "source": [
        "df=pd.read_csv('https://raw.githubusercontent.com/katie0107/ECON211_decision_tree_katie/main/insurance.csv')\n",
        "#df_ESG= df_ESG[df_ESG.Month==1]\n",
        "df.head()"
      ],
      "execution_count": null,
      "outputs": []
    },
    {
      "cell_type": "code",
      "metadata": {
        "id": "EUW_-ESiwpOG"
      },
      "source": [
        "df = df.dropna()"
      ],
      "execution_count": null,
      "outputs": []
    },
    {
      "cell_type": "code",
      "metadata": {
        "id": "PPL5DWfI0K3b"
      },
      "source": [
        "df['smoker_01']=df['smoker'].apply(lambda x: 1 if x=='yes' else 0)\r\n",
        "df['sex_01']=df['sex'].apply(lambda x: 1 if x=='female' else 0)\r\n",
        "df.head()"
      ],
      "execution_count": null,
      "outputs": []
    },
    {
      "cell_type": "code",
      "metadata": {
        "id": "y9bzyta_1D7a"
      },
      "source": [
        "df['charges_level']=pd.qcut(df.charges,5,labels=np.arange(1,6,1) )\r\n",
        "df['charges_level_str']=df['charges_level'].apply(lambda x: 'Very High' if x==5 else 'High' if x==4 else 'Middle' if x==3 else 'Low' if x==2 else 'Very Low')\r\n",
        "df.head()"
      ],
      "execution_count": null,
      "outputs": []
    },
    {
      "cell_type": "code",
      "metadata": {
        "id": "_f6FiQpb1huS"
      },
      "source": [
        "order = ['age', 'sex_01', 'bmi', 'children', 'smoker_01', 'charges']\r\n",
        "df_new = df[order]"
      ],
      "execution_count": null,
      "outputs": []
    },
    {
      "cell_type": "code",
      "metadata": {
        "id": "uRfwuvrxzRNW"
      },
      "source": [
        "import seaborn as sns \r\n",
        "# compute the pair wise correlation for all columns  \r\n",
        "correlation_matrix = df_new.corr().round(2)\r\n",
        "\r\n",
        "# print heatmap of the correlation matrix\r\n",
        "# next two lines remove the duplicate upper half of matrix\r\n",
        "mask = np.zeros(correlation_matrix.shape, dtype=bool)\r\n",
        "mask[np.triu_indices(len(mask),1)] = True\r\n",
        "\r\n",
        "sns.heatmap(data=correlation_matrix, annot=True, cmap = \"coolwarm\", mask = mask); "
      ],
      "execution_count": null,
      "outputs": []
    },
    {
      "cell_type": "markdown",
      "metadata": {
        "id": "9aVClxhz2BGY"
      },
      "source": [
        "As can be seen from the correlation map above, 'charges' is most relevant to 'smoker_01' and the second prominent feature is 'age'."
      ]
    },
    {
      "cell_type": "markdown",
      "metadata": {
        "id": "WXfdY-ZcJ3pu"
      },
      "source": [
        "# Build Decision Tree"
      ]
    },
    {
      "cell_type": "code",
      "metadata": {
        "id": "Ch9KDctHJwMk"
      },
      "source": [
        "feature_names=['smoker_01', 'age']\n",
        "features=df[feature_names]\n",
        "targets=df['charges_level_str']\n",
        "targets_names = targets.unique()"
      ],
      "execution_count": null,
      "outputs": []
    },
    {
      "cell_type": "code",
      "metadata": {
        "id": "4M83RDrL0_3a"
      },
      "source": [
        "from sklearn.model_selection import train_test_split\n",
        "train_features, test_features, train_targets, test_targets = train_test_split(features, targets, test_size=0.2, random_state=42)"
      ],
      "execution_count": null,
      "outputs": []
    },
    {
      "cell_type": "code",
      "metadata": {
        "id": "EcMhGaehLC_y"
      },
      "source": [
        "from sklearn import metrics\n",
        "from sklearn.metrics import accuracy_score"
      ],
      "execution_count": null,
      "outputs": []
    },
    {
      "cell_type": "code",
      "metadata": {
        "id": "AhVIHZN6LEuj"
      },
      "source": [
        "#####Optimizing Decision Tree Performance\n",
        "# Create Decision Tree classifer object\n",
        "clf = DecisionTreeClassifier(criterion='entropy', max_depth=3,random_state=0)\n",
        "\n",
        "# Train Decision Tree Classifer\n",
        "clf = clf.fit(train_features,train_targets)\n",
        "\n",
        "#Predict the response for test dataset\n",
        "y_pred = clf.predict(test_features)\n",
        "\n",
        "# Compute test set accuracy  \n",
        "acc = accuracy_score(y_pred, test_targets)\n",
        "print(\"Test set accuracy: {:.2f}\".format(acc))"
      ],
      "execution_count": null,
      "outputs": []
    },
    {
      "cell_type": "code",
      "metadata": {
        "id": "8n4BxXMALGm5"
      },
      "source": [
        "from sklearn.tree import export_graphviz\n",
        "from sklearn.externals.six import StringIO  \n",
        "from IPython.display import Image  \n",
        "import pydotplus"
      ],
      "execution_count": null,
      "outputs": []
    },
    {
      "cell_type": "code",
      "metadata": {
        "id": "IWcrutlxLI4-"
      },
      "source": [
        "dot_data = StringIO()\n",
        "export_graphviz(clf, out_file=dot_data,  \n",
        "                filled=True, rounded=True,\n",
        "                special_characters=True,feature_names = feature_names,class_names=clf.classes_)\n",
        "graph = pydotplus.graph_from_dot_data(dot_data.getvalue())  \n",
        "graph.write_png('ESG.png')\n",
        "Image(graph.create_png())"
      ],
      "execution_count": null,
      "outputs": []
    },
    {
      "cell_type": "code",
      "metadata": {
        "id": "cliGo7ZKLKr5"
      },
      "source": [
        ""
      ],
      "execution_count": null,
      "outputs": []
    }
  ]
}